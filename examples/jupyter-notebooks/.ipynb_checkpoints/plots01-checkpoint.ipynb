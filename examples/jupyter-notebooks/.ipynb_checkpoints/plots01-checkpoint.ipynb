{
 "cells": [
  {
   "cell_type": "code",
   "execution_count": 1,
   "metadata": {
    "collapsed": false
   },
   "outputs": [
    {
     "data": {
      "image/png": "[encoded data removed]",
      "text/plain": [
       "<matplotlib.figure.Figure at 0x48040f0>"
      ]
     },
     "metadata": {},
     "output_type": "display_data"
    }
   ],
   "source": [
    "import intrepid as ip\n",
    "from matplotlib import pyplot as pl\n",
    "\n",
    "ctx = ip.mk_ctx()\n",
    "\n",
    "step = [0, 1, 2, 3, 4]\n",
    "vals = [0, 0, 1, 0, 0]\n",
    "\n",
    "a = pl.subplot(211)\n",
    "a.axes.set_xticks([0, 1, 2, 3])\n",
    "a.axes.set_yticks([0, 1, 2])\n",
    "a.axes.set_xlim(0,4)\n",
    "a.axes.set_ylim(-1,3)\n",
    "pl.step(step, vals)\n",
    "pl.legend('a')\n",
    "\n",
    "b = pl.subplot(212)\n",
    "b.axes.set_xticks([0, 1, 2, 3])\n",
    "b.axes.set_yticks([0, 1, 2, 3])\n",
    "pl.step(step, vals)\n",
    "pl.legend('b')\n",
    "\n",
    "pl.show()\n",
    "\n",
    "ip.del_ctx(ctx)"
   ]
  },
  {
   "cell_type": "code",
   "execution_count": null,
   "metadata": {
    "collapsed": true
   },
   "outputs": [],
   "source": []
  }
 ],
 "metadata": {
  "anaconda-cloud": {},
  "kernelspec": {
   "display_name": "Python [conda root]",
   "language": "python",
   "name": "conda-root-py"
  },
  "language_info": {
   "codemirror_mode": {
    "name": "ipython",
    "version": 2
   },
   "file_extension": ".py",
   "mimetype": "text/x-python",
   "name": "python",
   "nbconvert_exporter": "python",
   "pygments_lexer": "ipython2",
   "version": "2.7.12"
  }
 },
 "nbformat": 4,
 "nbformat_minor": 1
}
