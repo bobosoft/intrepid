{
 "cells": [
  {
   "cell_type": "code",
   "execution_count": 3,
   "metadata": {
    "collapsed": false
   },
   "outputs": [
    {
     "name": "stdout",
     "output_type": "stream",
     "text": [
      "Targets reached at depth 0 : 1\n",
      "{'OnOff': ['?'], 'OnYellow': ['?'], 'OnRed': ['?'], 'Daytime': ['?'], 'OnGreen': ['?']}\n",
      "Targets reached at depth 1 : 1\n",
      "{'OnOff': ['?', '?'], 'OnYellow': ['false', 'true'], 'OnRed': ['?', '?'], 'Daytime': ['false', '?'], 'OnGreen': ['?', '?']}\n",
      "Targets reached at depth 2 : 1\n",
      "{'OnOff': ['?', '?', '?'], 'OnYellow': ['?', 'false', 'true'], 'OnRed': ['?', '?', '?'], 'Daytime': ['?', 'false', '?'], 'OnGreen': ['?', '?', '?']}\n",
      "Targets reached at depth 3 : 1\n",
      "{'OnOff': ['?', '?', '?', '?'], 'OnYellow': ['false', 'true', '?', '?'], 'OnRed': ['?', 'false', 'true', 'false'], 'Daytime': ['false', 'true', 'true', '?'], 'OnGreen': ['?', '?', 'false', 'true']}\n"
     ]
    }
   ],
   "source": [
    "import intrepid as ip\n",
    "import intrepid.utils\n",
    "import imp\n",
    "\n",
    "f, filename, description = imp.find_module('traffic_light')\n",
    "traffic_light = imp.load_module('TrafficLight', f, filename, description)\n",
    "\n",
    "ctx = ip.mk_ctx()\n",
    "\n",
    "traffic_light.mk_circuit(ctx)\n",
    "light_out = traffic_light.outputs['traffic_light/out']\n",
    "targetGreen = ip.mk_eq(ctx, light_out, traffic_light.constants['traffic_light/Green'])\n",
    "targetYellow = ip.mk_eq(ctx, light_out, traffic_light.constants['traffic_light/Yellow'])\n",
    "targetRed = ip.mk_eq(ctx, light_out, traffic_light.constants['traffic_light/Red'])\n",
    "targetOff = ip.mk_eq(ctx, light_out, traffic_light.constants['traffic_light/Off'])\n",
    "\n",
    "bmc = ip.mk_engine_bmc(ctx)\n",
    "ip.bmc_add_target(ctx, bmc, targetGreen)\n",
    "ip.bmc_add_target(ctx, bmc, targetYellow)\n",
    "ip.bmc_add_target(ctx, bmc, targetRed)\n",
    "ip.bmc_add_target(ctx, bmc, targetOff)\n",
    "\n",
    "for depth in range(4):\n",
    "    reached_target = ip.utils.bmc_reach_at_depth(ctx, bmc, depth)\n",
    "    if len(reached_target) > 0:\n",
    "        print 'Targets reached at depth', depth, ':', len(reached_target)\n",
    "        cex = ip.bmc_get_counterexample(ctx, bmc, reached_target[0])\n",
    "        cex_dict = ip.utils.counterexample_get_as_dictionary(ctx, cex, traffic_light.inputs, {})\n",
    "        print cex_dict\n",
    "    else:\n",
    "        print 'No target reacheable at depth:', depth\n",
    "\n",
    "ip.del_ctx(ctx)"
   ]
  },
  {
   "cell_type": "code",
   "execution_count": null,
   "metadata": {
    "collapsed": true
   },
   "outputs": [],
   "source": []
  }
 ],
 "metadata": {
  "anaconda-cloud": {},
  "kernelspec": {
   "display_name": "Python [conda root]",
   "language": "python",
   "name": "conda-root-py"
  },
  "language_info": {
   "codemirror_mode": {
    "name": "ipython",
    "version": 2
   },
   "file_extension": ".py",
   "mimetype": "text/x-python",
   "name": "python",
   "nbconvert_exporter": "python",
   "pygments_lexer": "ipython2",
   "version": "2.7.12"
  }
 },
 "nbformat": 4,
 "nbformat_minor": 1
}
