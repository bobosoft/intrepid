{
 "cells": [
  {
   "cell_type": "code",
   "execution_count": null,
   "metadata": {
    "collapsed": false
   },
   "outputs": [],
   "source": [
    "import intrepid as ip\n",
    "import intrepid.components\n",
    "import intrepid.utils\n",
    "\n",
    "ctx = ip.mk_ctx()\n",
    "int8type = ip.mk_int8_type(ctx)\n",
    "zero = ip.mk_number(ctx, \"0\", int8type)\n",
    "one = ip.mk_number(ctx, \"1\", int8type)\n",
    "hundred = ip.mk_number(ctx, \"100\", int8type)\n",
    "counter = ip.components.mk_counter(ctx, \"counter\", int8type, zero, one, hundred, ip.mk_true(ctx))\n",
    "simulator = ip.mk_simulator(ctx)\n",
    "cex = ip.simulator_default_simulate(simulator, 110)\n",
    "cexDict = ip.utils.counterexample_get_as_dictionary(ctx, cex, {}, { 'counter' : counter })\n",
    "print cexDict\n",
    "ip.del_ctx(ctx)"
   ]
  },
  {
   "cell_type": "code",
   "execution_count": null,
   "metadata": {
    "collapsed": true
   },
   "outputs": [],
   "source": []
  }
 ],
 "metadata": {
  "anaconda-cloud": {},
  "kernelspec": {
   "display_name": "Python [conda root]",
   "language": "python",
   "name": "conda-root-py"
  },
  "language_info": {
   "codemirror_mode": {
    "name": "ipython",
    "version": 2
   },
   "file_extension": ".py",
   "mimetype": "text/x-python",
   "name": "python",
   "nbconvert_exporter": "python",
   "pygments_lexer": "ipython2",
   "version": "2.7.12"
  }
 },
 "nbformat": 4,
 "nbformat_minor": 1
}
