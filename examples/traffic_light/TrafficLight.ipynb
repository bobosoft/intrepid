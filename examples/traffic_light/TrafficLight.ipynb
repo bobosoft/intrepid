{
 "cells": [
  {
   "cell_type": "code",
   "execution_count": 1,
   "metadata": {
    "collapsed": false
   },
   "outputs": [
    {
     "name": "stdout",
     "output_type": "stream",
     "text": [
      "OrderedDict([('traffic_light/out', 66)])\n",
      "Targets reached at depth 0 : 1\n",
      "x: [0, 1]\n",
      "y: [0, 0]\n",
      "x: [0, 1]\n",
      "y: [0, 0]\n",
      "x: [0, 1]\n",
      "y: [0, 0]\n",
      "x: [0, 1]\n",
      "y: [0, 0]\n",
      "x: [0, 1]\n",
      "y: ['#x00', '#x00']\n"
     ]
    },
    {
     "ename": "TypeError",
     "evalue": "cannot concatenate 'str' and 'int' objects",
     "output_type": "error",
     "traceback": [
      "\u001b[0;31m---------------------------------------------------------------------------\u001b[0m",
      "\u001b[0;31mTypeError\u001b[0m                                 Traceback (most recent call last)",
      "\u001b[0;32m<ipython-input-1-6ed2a41dbd9c>\u001b[0m in \u001b[0;36m<module>\u001b[0;34m()\u001b[0m\n\u001b[1;32m     34\u001b[0m         \u001b[0mcexDict\u001b[0m \u001b[1;33m=\u001b[0m \u001b[0mip\u001b[0m\u001b[1;33m.\u001b[0m\u001b[0mutils\u001b[0m\u001b[1;33m.\u001b[0m\u001b[0mcounterexample_get_as_dictionary\u001b[0m\u001b[1;33m(\u001b[0m\u001b[0mctx\u001b[0m\u001b[1;33m,\u001b[0m \u001b[0mcex\u001b[0m\u001b[1;33m,\u001b[0m \u001b[0mmyTrafficLight\u001b[0m\u001b[1;33m.\u001b[0m\u001b[0minputs\u001b[0m\u001b[1;33m,\u001b[0m \u001b[0mmyTrafficLight\u001b[0m\u001b[1;33m.\u001b[0m\u001b[0moutputs\u001b[0m\u001b[1;33m)\u001b[0m\u001b[1;33m\u001b[0m\u001b[0m\n\u001b[1;32m     35\u001b[0m         \u001b[1;31m# pprint.pprint(cexDict, indent=1)\u001b[0m\u001b[1;33m\u001b[0m\u001b[1;33m\u001b[0m\u001b[0m\n\u001b[0;32m---> 36\u001b[0;31m         \u001b[0mip\u001b[0m\u001b[1;33m.\u001b[0m\u001b[0mplots\u001b[0m\u001b[1;33m.\u001b[0m\u001b[0mplot_counterexample_dictionary\u001b[0m\u001b[1;33m(\u001b[0m\u001b[0mcexDict\u001b[0m\u001b[1;33m)\u001b[0m\u001b[1;33m\u001b[0m\u001b[0m\n\u001b[0m\u001b[1;32m     37\u001b[0m     \u001b[1;32melse\u001b[0m\u001b[1;33m:\u001b[0m\u001b[1;33m\u001b[0m\u001b[0m\n\u001b[1;32m     38\u001b[0m         \u001b[1;32mprint\u001b[0m \u001b[1;34m'No target reacheable at depth:'\u001b[0m\u001b[1;33m,\u001b[0m \u001b[0mdepth\u001b[0m\u001b[1;33m\u001b[0m\u001b[0m\n",
      "\u001b[0;32mC:\\Users\\axel\\Anaconda2\\lib\\site-packages\\intrepid\\plots.pyc\u001b[0m in \u001b[0;36mplot_counterexample_dictionary\u001b[0;34m(cex)\u001b[0m\n\u001b[1;32m     49\u001b[0m     \u001b[0mn\u001b[0m \u001b[1;33m=\u001b[0m \u001b[1;36m1\u001b[0m\u001b[1;33m\u001b[0m\u001b[0m\n\u001b[1;32m     50\u001b[0m     \u001b[1;32mfor\u001b[0m \u001b[0mkey\u001b[0m \u001b[1;32min\u001b[0m \u001b[0mcex\u001b[0m\u001b[1;33m.\u001b[0m\u001b[0mkeys\u001b[0m\u001b[1;33m(\u001b[0m\u001b[1;33m)\u001b[0m\u001b[1;33m:\u001b[0m\u001b[1;33m\u001b[0m\u001b[0m\n\u001b[0;32m---> 51\u001b[0;31m        \u001b[0mcreate_subplot\u001b[0m\u001b[1;33m(\u001b[0m\u001b[0mallPlots\u001b[0m\u001b[1;33m,\u001b[0m \u001b[0mn\u001b[0m\u001b[1;33m,\u001b[0m \u001b[0msteps\u001b[0m\u001b[1;33m,\u001b[0m \u001b[0mcex\u001b[0m\u001b[1;33m[\u001b[0m\u001b[0mkey\u001b[0m\u001b[1;33m]\u001b[0m\u001b[1;33m,\u001b[0m \u001b[0mkey\u001b[0m\u001b[1;33m)\u001b[0m\u001b[1;33m\u001b[0m\u001b[0m\n\u001b[0m\u001b[1;32m     52\u001b[0m        \u001b[0mn\u001b[0m \u001b[1;33m+=\u001b[0m \u001b[1;36m1\u001b[0m\u001b[1;33m\u001b[0m\u001b[0m\n\u001b[1;32m     53\u001b[0m \u001b[1;33m\u001b[0m\u001b[0m\n",
      "\u001b[0;32mC:\\Users\\axel\\Anaconda2\\lib\\site-packages\\intrepid\\plots.pyc\u001b[0m in \u001b[0;36mcreate_subplot\u001b[0;34m(allPlots, n, x, y, legend)\u001b[0m\n\u001b[1;32m      9\u001b[0m     \u001b[0msubplot\u001b[0m \u001b[1;33m=\u001b[0m \u001b[0mplt\u001b[0m\u001b[1;33m.\u001b[0m\u001b[0msubplot\u001b[0m\u001b[1;33m(\u001b[0m\u001b[0mallPlots\u001b[0m\u001b[1;33m,\u001b[0m \u001b[1;36m1\u001b[0m\u001b[1;33m,\u001b[0m \u001b[0mn\u001b[0m\u001b[1;33m)\u001b[0m\u001b[1;33m\u001b[0m\u001b[0m\n\u001b[1;32m     10\u001b[0m     \u001b[0msubplot\u001b[0m\u001b[1;33m.\u001b[0m\u001b[0maxes\u001b[0m\u001b[1;33m.\u001b[0m\u001b[0mset_xticks\u001b[0m\u001b[1;33m(\u001b[0m\u001b[0mx\u001b[0m\u001b[1;33m)\u001b[0m\u001b[1;33m\u001b[0m\u001b[0m\n\u001b[0;32m---> 11\u001b[0;31m     \u001b[0msubplot\u001b[0m\u001b[1;33m.\u001b[0m\u001b[0maxes\u001b[0m\u001b[1;33m.\u001b[0m\u001b[0mset_yticks\u001b[0m\u001b[1;33m(\u001b[0m\u001b[0mrange\u001b[0m\u001b[1;33m(\u001b[0m\u001b[0mminy\u001b[0m\u001b[1;33m,\u001b[0m \u001b[0mmaxy\u001b[0m \u001b[1;33m+\u001b[0m \u001b[1;36m1\u001b[0m\u001b[1;33m)\u001b[0m\u001b[1;33m)\u001b[0m\u001b[1;33m\u001b[0m\u001b[0m\n\u001b[0m\u001b[1;32m     12\u001b[0m     \u001b[0msubplot\u001b[0m\u001b[1;33m.\u001b[0m\u001b[0mset_ylim\u001b[0m\u001b[1;33m(\u001b[0m\u001b[0mminy\u001b[0m \u001b[1;33m-\u001b[0m \u001b[1;36m1\u001b[0m\u001b[1;33m,\u001b[0m \u001b[0mmaxy\u001b[0m \u001b[1;33m+\u001b[0m \u001b[1;36m1\u001b[0m\u001b[1;33m)\u001b[0m\u001b[1;33m\u001b[0m\u001b[0m\n\u001b[1;32m     13\u001b[0m     \u001b[0mplt\u001b[0m\u001b[1;33m.\u001b[0m\u001b[0mstep\u001b[0m\u001b[1;33m(\u001b[0m\u001b[0mx\u001b[0m\u001b[1;33m,\u001b[0m \u001b[0my\u001b[0m\u001b[1;33m,\u001b[0m \u001b[0mlabel\u001b[0m\u001b[1;33m=\u001b[0m\u001b[0mlegend\u001b[0m\u001b[1;33m)\u001b[0m\u001b[1;33m\u001b[0m\u001b[0m\n",
      "\u001b[0;31mTypeError\u001b[0m: cannot concatenate 'str' and 'int' objects"
     ]
    }
   ],
   "source": [
    "import intrepid as ip\n",
    "import intrepid.utils\n",
    "import intrepid.plots\n",
    "import imp\n",
    "import pprint\n",
    "\n",
    "f, filename, description = imp.find_module('traffic_light')\n",
    "traffic_light = imp.load_module('TrafficLight', f, filename, description)\n",
    "\n",
    "ctx = ip.mk_ctx()\n",
    "\n",
    "myTrafficLight = traffic_light.SimulinkCircuit(ctx, 'MyTrafficLight')\n",
    "myTrafficLight.mk_circuit()\n",
    "\n",
    "lightOut = myTrafficLight.outputs['traffic_light/out']\n",
    "targetGreen = ip.mk_eq(ctx, lightOut, myTrafficLight.nets['traffic_light/Green'])\n",
    "targetYellow = ip.mk_eq(ctx, lightOut, myTrafficLight.nets['traffic_light/Yellow'])\n",
    "targetRed = ip.mk_eq(ctx, lightOut, myTrafficLight.nets['traffic_light/Red'])\n",
    "targetOff = ip.mk_eq(ctx, lightOut, myTrafficLight.nets['traffic_light/Off'])\n",
    "\n",
    "bmc = ip.mk_engine_bmc(ctx)\n",
    "ip.bmc_add_target(ctx, bmc, targetGreen)\n",
    "ip.bmc_add_target(ctx, bmc, targetYellow)\n",
    "ip.bmc_add_target(ctx, bmc, targetRed)\n",
    "ip.bmc_add_target(ctx, bmc, targetOff)\n",
    "\n",
    "pprint.pprint(myTrafficLight.outputs)\n",
    "\n",
    "for depth in range(4):\n",
    "    reachedTargets = ip.utils.bmc_reach_at_depth(ctx, bmc, depth)\n",
    "    if len(reachedTargets) > 0:\n",
    "        print 'Targets reached at depth', depth, ':', len(reachedTargets)\n",
    "        cex = ip.bmc_get_counterexample(ctx, bmc, reachedTargets[0])\n",
    "        cexDict = ip.utils.counterexample_get_as_dictionary(ctx, cex, myTrafficLight.inputs, myTrafficLight.outputs)\n",
    "        # pprint.pprint(cexDict, indent=1)\n",
    "        ip.plots.plot_counterexample_dictionary(cexDict)\n",
    "    else:\n",
    "        print 'No target reacheable at depth:', depth\n",
    "\n",
    "ip.del_ctx(ctx)"
   ]
  },
  {
   "cell_type": "code",
   "execution_count": null,
   "metadata": {
    "collapsed": true
   },
   "outputs": [],
   "source": []
  }
 ],
 "metadata": {
  "anaconda-cloud": {},
  "kernelspec": {
   "display_name": "Python [conda root]",
   "language": "python",
   "name": "conda-root-py"
  },
  "language_info": {
   "codemirror_mode": {
    "name": "ipython",
    "version": 2
   },
   "file_extension": ".py",
   "mimetype": "text/x-python",
   "name": "python",
   "nbconvert_exporter": "python",
   "pygments_lexer": "ipython2",
   "version": "2.7.12"
  }
 },
 "nbformat": 4,
 "nbformat_minor": 1
}
