{
 "cells": [
  {
   "cell_type": "code",
   "execution_count": null,
   "metadata": {
    "collapsed": false
   },
   "outputs": [],
   "source": [
    "import intrepyd as ip\n",
    "import intrepyd.plots\n",
    "from intrepyd.engine import EngineResult\n",
    "\n",
    "# The translated SCR problem\n",
    "import traffic_light\n",
    "\n",
    "ctx = ip.Context()\n",
    "\n",
    "myTrafficLight = traffic_light.SimulinkCircuit(ctx, 'MyTrafficLight')\n",
    "myTrafficLight.mk_circuit()\n",
    "\n",
    "lightOut = myTrafficLight.outputs['traffic_light/out']\n",
    "targetGreen = ctx.mk_eq(lightOut, myTrafficLight.nets['traffic_light/Green'])\n",
    "targetYellow = ctx.mk_eq(lightOut, myTrafficLight.nets['traffic_light/Yellow'])\n",
    "targetRed = ctx.mk_eq(lightOut, myTrafficLight.nets['traffic_light/Red'])\n",
    "targetOff = ctx.mk_eq(lightOut, myTrafficLight.nets['traffic_light/Off'])\n",
    "\n",
    "bmc = ctx.mk_bmc()\n",
    "bmc.add_target(targetGreen)\n",
    "bmc.add_target(targetYellow)\n",
    "bmc.add_target(targetRed)\n",
    "bmc.add_target(targetOff)\n",
    "\n",
    "for depth in range(4):\n",
    "    bmc.set_current_depth(depth)\n",
    "    res = bmc.reach_targets()\n",
    "    if res == EngineResult.REACHABLE:\n",
    "        reachedTargets = bmc.get_last_reached_targets()\n",
    "        print 'Targets reached at depth', depth, ':'\n",
    "        for target in reachedTargets:\n",
    "            trace = bmc.get_last_trace()\n",
    "        df = trace.get_as_dataframe(ctx.net2name)\n",
    "        print df\n",
    "        traceDict = trace.get_as_net_dictionary(ctx.net2name)\n",
    "        ip.plots.plot_trace_dictionary(traceDict)\n",
    "    else:\n",
    "        print 'No target reacheable at depth:', depth\n"
   ]
  },
  {
   "cell_type": "code",
   "execution_count": null,
   "metadata": {
    "collapsed": true
   },
   "outputs": [],
   "source": []
  }
 ],
 "metadata": {
  "anaconda-cloud": {},
  "kernelspec": {
   "display_name": "Python [conda root]",
   "language": "python",
   "name": "conda-root-py"
  },
  "language_info": {
   "codemirror_mode": {
    "name": "ipython",
    "version": 2
   },
   "file_extension": ".py",
   "mimetype": "text/x-python",
   "name": "python",
   "nbconvert_exporter": "python",
   "pygments_lexer": "ipython2",
   "version": "2.7.12"
  }
 },
 "nbformat": 4,
 "nbformat_minor": 1
}
