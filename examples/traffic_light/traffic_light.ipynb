{
 "cells": [
  {
   "cell_type": "code",
   "execution_count": 1,
   "metadata": {
    "collapsed": false
   },
   "outputs": [
    {
     "name": "stdout",
     "output_type": "stream",
     "text": [
      "Targets reached at depth 0 :\n",
      "          0\n",
      "OnGreen   ?\n",
      "OnYellow  ?\n",
      "OnRed     ?\n",
      "Daytime   ?\n",
      "OnOff     ?\n"
     ]
    },
    {
     "ename": "TypeError",
     "evalue": "get_numeric_value() takes exactly 2 arguments (1 given)",
     "output_type": "error",
     "traceback": [
      "\u001b[0;31m---------------------------------------------------------------------------\u001b[0m",
      "\u001b[0;31mTypeError\u001b[0m                                 Traceback (most recent call last)",
      "\u001b[0;32m<ipython-input-1-2f65a4ce9d07>\u001b[0m in \u001b[0;36m<module>\u001b[0;34m()\u001b[0m\n\u001b[1;32m     34\u001b[0m         \u001b[1;32mprint\u001b[0m \u001b[0mdf\u001b[0m\u001b[1;33m\u001b[0m\u001b[0m\n\u001b[1;32m     35\u001b[0m         \u001b[0mtraceDict\u001b[0m \u001b[1;33m=\u001b[0m \u001b[0mtrace\u001b[0m\u001b[1;33m.\u001b[0m\u001b[0mget_as_net_dictionary\u001b[0m\u001b[1;33m(\u001b[0m\u001b[0mctx\u001b[0m\u001b[1;33m.\u001b[0m\u001b[0mnet2name\u001b[0m\u001b[1;33m)\u001b[0m\u001b[1;33m\u001b[0m\u001b[0m\n\u001b[0;32m---> 36\u001b[0;31m         \u001b[0mip\u001b[0m\u001b[1;33m.\u001b[0m\u001b[0mplots\u001b[0m\u001b[1;33m.\u001b[0m\u001b[0mplot_trace_dictionary\u001b[0m\u001b[1;33m(\u001b[0m\u001b[0mtraceDict\u001b[0m\u001b[1;33m)\u001b[0m\u001b[1;33m\u001b[0m\u001b[0m\n\u001b[0m\u001b[1;32m     37\u001b[0m     \u001b[1;32melse\u001b[0m\u001b[1;33m:\u001b[0m\u001b[1;33m\u001b[0m\u001b[0m\n\u001b[1;32m     38\u001b[0m         \u001b[1;32mprint\u001b[0m \u001b[1;34m'No target reacheable at depth:'\u001b[0m\u001b[1;33m,\u001b[0m \u001b[0mdepth\u001b[0m\u001b[1;33m\u001b[0m\u001b[0m\n",
      "\u001b[0;32mC:\\Users\\rober\\AppData\\Local\\Continuum\\Anaconda2\\lib\\site-packages\\intrepyd\\plots.pyc\u001b[0m in \u001b[0;36mplot_trace_dictionary\u001b[0;34m(trace)\u001b[0m\n\u001b[1;32m     39\u001b[0m         \u001b[1;32mfor\u001b[0m \u001b[0mvalue\u001b[0m \u001b[1;32min\u001b[0m \u001b[0mrange\u001b[0m\u001b[1;33m(\u001b[0m\u001b[0mlen\u001b[0m\u001b[1;33m(\u001b[0m\u001b[0mtrace\u001b[0m\u001b[1;33m[\u001b[0m\u001b[0mkey\u001b[0m\u001b[1;33m]\u001b[0m\u001b[1;33m)\u001b[0m\u001b[1;33m)\u001b[0m\u001b[1;33m:\u001b[0m\u001b[1;33m\u001b[0m\u001b[0m\n\u001b[1;32m     40\u001b[0m             \u001b[0mv\u001b[0m \u001b[1;33m=\u001b[0m \u001b[0mtrace\u001b[0m\u001b[1;33m[\u001b[0m\u001b[0mkey\u001b[0m\u001b[1;33m]\u001b[0m\u001b[1;33m[\u001b[0m\u001b[0mvalue\u001b[0m\u001b[1;33m]\u001b[0m\u001b[1;33m\u001b[0m\u001b[0m\n\u001b[0;32m---> 41\u001b[0;31m             \u001b[0mv\u001b[0m \u001b[1;33m=\u001b[0m \u001b[0mip\u001b[0m\u001b[1;33m.\u001b[0m\u001b[0mtrace\u001b[0m\u001b[1;33m.\u001b[0m\u001b[0mTrace\u001b[0m\u001b[1;33m.\u001b[0m\u001b[0mget_numeric_value\u001b[0m\u001b[1;33m(\u001b[0m\u001b[0mv\u001b[0m\u001b[1;33m)\u001b[0m\u001b[1;33m\u001b[0m\u001b[0m\n\u001b[0m\u001b[1;32m     42\u001b[0m             \u001b[1;32mif\u001b[0m \u001b[0mv\u001b[0m \u001b[1;33m==\u001b[0m \u001b[1;34m'?'\u001b[0m\u001b[1;33m:\u001b[0m\u001b[1;33m\u001b[0m\u001b[0m\n\u001b[1;32m     43\u001b[0m                 \u001b[0mtrace\u001b[0m\u001b[1;33m[\u001b[0m\u001b[0mkey\u001b[0m\u001b[1;33m]\u001b[0m\u001b[1;33m[\u001b[0m\u001b[0mvalue\u001b[0m\u001b[1;33m]\u001b[0m \u001b[1;33m=\u001b[0m \u001b[1;36m0\u001b[0m\u001b[1;33m\u001b[0m\u001b[0m\n",
      "\u001b[0;31mTypeError\u001b[0m: get_numeric_value() takes exactly 2 arguments (1 given)"
     ]
    }
   ],
   "source": [
    "import intrepyd as ip\n",
    "import intrepyd.plots\n",
    "from intrepyd.engine import EngineResult\n",
    "\n",
    "# The translated SCR problem\n",
    "import traffic_light\n",
    "\n",
    "ctx = ip.Context()\n",
    "\n",
    "myTrafficLight = traffic_light.SimulinkCircuit(ctx, 'MyTrafficLight')\n",
    "myTrafficLight.mk_circuit()\n",
    "\n",
    "lightOut = myTrafficLight.outputs['traffic_light/out']\n",
    "targetGreen = ctx.mk_eq(lightOut, myTrafficLight.nets['traffic_light/Green'])\n",
    "targetYellow = ctx.mk_eq(lightOut, myTrafficLight.nets['traffic_light/Yellow'])\n",
    "targetRed = ctx.mk_eq(lightOut, myTrafficLight.nets['traffic_light/Red'])\n",
    "targetOff = ctx.mk_eq(lightOut, myTrafficLight.nets['traffic_light/Off'])\n",
    "\n",
    "bmc = ctx.mk_bmc()\n",
    "bmc.add_target(targetGreen)\n",
    "bmc.add_target(targetYellow)\n",
    "bmc.add_target(targetRed)\n",
    "bmc.add_target(targetOff)\n",
    "\n",
    "for depth in range(4):\n",
    "    bmc.set_current_depth(depth)\n",
    "    res = bmc.reach_targets()\n",
    "    if res == EngineResult.REACHABLE:\n",
    "        reachedTargets = bmc.get_last_reached_targets()\n",
    "        print 'Targets reached at depth', depth, ':'\n",
    "        for target in reachedTargets:\n",
    "            trace = bmc.get_last_trace()\n",
    "        df = trace.get_as_dataframe(ctx.net2name)\n",
    "        print df\n",
    "        traceDict = trace.get_as_net_dictionary(ctx.net2name)\n",
    "        ip.plots.plot_trace_dictionary(traceDict)\n",
    "    else:\n",
    "        print 'No target reacheable at depth:', depth\n"
   ]
  },
  {
   "cell_type": "code",
   "execution_count": null,
   "metadata": {
    "collapsed": true
   },
   "outputs": [],
   "source": []
  }
 ],
 "metadata": {
  "anaconda-cloud": {},
  "kernelspec": {
   "display_name": "Python [conda root]",
   "language": "python",
   "name": "conda-root-py"
  },
  "language_info": {
   "codemirror_mode": {
    "name": "ipython",
    "version": 2
   },
   "file_extension": ".py",
   "mimetype": "text/x-python",
   "name": "python",
   "nbconvert_exporter": "python",
   "pygments_lexer": "ipython2",
   "version": "2.7.12"
  }
 },
 "nbformat": 4,
 "nbformat_minor": 1
}
